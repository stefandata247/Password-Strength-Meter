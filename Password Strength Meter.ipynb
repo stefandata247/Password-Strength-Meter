{
 "cells": [
  {
   "cell_type": "code",
   "execution_count": 1,
   "id": "2faa86d1",
   "metadata": {},
   "outputs": [
    {
     "name": "stdout",
     "output_type": "stream",
     "text": [
      " * Serving Flask app '__main__' (lazy loading)\n",
      " * Environment: production\n",
      "\u001b[31m   WARNING: This is a development server. Do not use it in a production deployment.\u001b[0m\n",
      "\u001b[2m   Use a production WSGI server instead.\u001b[0m\n",
      " * Debug mode: on\n"
     ]
    },
    {
     "name": "stderr",
     "output_type": "stream",
     "text": [
      "WARNING: This is a development server. Do not use it in a production deployment. Use a production WSGI server instead.\n",
      " * Running on http://127.0.0.1:5000\n",
      "Press CTRL+C to quit\n",
      " * Restarting with watchdog (fsevents)\n",
      "Traceback (most recent call last):\n",
      "  File \"/Users/stefantinnin/anaconda3/lib/python3.11/site-packages/ipykernel_launcher.py\", line 15, in <module>\n",
      "    from ipykernel import kernelapp as app\n",
      "  File \"/Users/stefantinnin/anaconda3/lib/python3.11/site-packages/ipykernel/__init__.py\", line 5, in <module>\n",
      "    from .connect import *  # noqa\n",
      "    ^^^^^^^^^^^^^^^^^^^^^^\n",
      "  File \"/Users/stefantinnin/anaconda3/lib/python3.11/site-packages/ipykernel/connect.py\", line 11, in <module>\n",
      "    import jupyter_client\n",
      "  File \"/Users/stefantinnin/anaconda3/lib/python3.11/site-packages/jupyter_client/__init__.py\", line 8, in <module>\n",
      "    from .asynchronous import AsyncKernelClient  # noqa\n",
      "    ^^^^^^^^^^^^^^^^^^^^^^^^^^^^^^^^^^^^^^^^^^^\n",
      "  File \"/Users/stefantinnin/anaconda3/lib/python3.11/site-packages/jupyter_client/asynchronous/__init__.py\", line 1, in <module>\n",
      "    from .client import AsyncKernelClient  # noqa\n",
      "    ^^^^^^^^^^^^^^^^^^^^^^^^^^^^^^^^^^^^^\n",
      "  File \"/Users/stefantinnin/anaconda3/lib/python3.11/site-packages/jupyter_client/asynchronous/client.py\", line 8, in <module>\n",
      "    from jupyter_client.client import KernelClient\n",
      "  File \"/Users/stefantinnin/anaconda3/lib/python3.11/site-packages/jupyter_client/client.py\", line 22, in <module>\n",
      "    from .connect import ConnectionFileMixin\n",
      "  File \"/Users/stefantinnin/anaconda3/lib/python3.11/site-packages/jupyter_client/connect.py\", line 27, in <module>\n",
      "    from jupyter_core.paths import jupyter_data_dir\n",
      "  File \"/Users/stefantinnin/anaconda3/lib/python3.11/site-packages/jupyter_core/paths.py\", line 19, in <module>\n",
      "    from pathlib import Path\n",
      "  File \"/Users/stefantinnin/anaconda3/lib/python3.11/site-packages/pathlib.py\", line 10, in <module>\n",
      "    from collections import Sequence\n",
      "ImportError: cannot import name 'Sequence' from 'collections' (/Users/stefantinnin/anaconda3/lib/python3.11/collections/__init__.py)\n"
     ]
    },
    {
     "ename": "SystemExit",
     "evalue": "1",
     "output_type": "error",
     "traceback": [
      "An exception has occurred, use %tb to see the full traceback.\n",
      "\u001b[0;31mSystemExit\u001b[0m\u001b[0;31m:\u001b[0m 1\n"
     ]
    },
    {
     "name": "stderr",
     "output_type": "stream",
     "text": [
      "/Users/stefantinnin/anaconda3/lib/python3.11/site-packages/IPython/core/interactiveshell.py:3534: UserWarning: To exit: use 'exit', 'quit', or Ctrl-D.\n",
      "  warn(\"To exit: use 'exit', 'quit', or Ctrl-D.\", stacklevel=1)\n"
     ]
    }
   ],
   "source": [
    "from flask import Flask, request, jsonify\n",
    "from flask import render_template_string\n",
    "\n",
    "app = Flask(__name__)\n",
    "def is_strong_password(password):\n",
    "    # Implement your password strength logic here\n",
    "    # For simplicity, let's assume a strong password should have a minimum length of 8 characters\n",
    "    return len(password) >= 8\n",
    "\n",
    "@app.route('/')\n",
    "def index():\n",
    "    return render_template_string('''\n",
    "        <!DOCTYPE html>\n",
    "        <html lang=\"en\">\n",
    "        <head>\n",
    "            <meta charset=\"UTF-8\">\n",
    "            <meta name=\"viewport\" content=\"width=device-width, initial-scale=1.0\">\n",
    "            <title>Password Checker</title>\n",
    "        </head>\n",
    "        <body>\n",
    "            <div>\n",
    "                <label for=\"passwordInput\">Enter Password:</label>\n",
    "                <input type=\"password\" id=\"passwordInput\" placeholder=\"Type your password\">\n",
    "                <span id=\"visibilityToggle\" onclick=\"toggleVisibility()\">👁️</span>\n",
    "                <button id=\"checkButton\" onclick=\"checkPassword()\">Check Password</button>\n",
    "                <p id=\"result\"></p>\n",
    "            </div>\n",
    "\n",
    "            <script>\n",
    "                function checkPassword() {\n",
    "                    const passwordInput = document.getElementById('passwordInput');\n",
    "                    const password = passwordInput.value;\n",
    "\n",
    "                    fetch('/check-password', {\n",
    "                        method: 'POST',\n",
    "                        headers: {\n",
    "                            'Content-Type': 'application/json',\n",
    "                        },\n",
    "                        body: JSON.stringify({ password: password }),\n",
    "                    })\n",
    "                    .then(response => response.json())\n",
    "                    .then(data => {\n",
    "                        const resultElement = document.getElementById('result');\n",
    "                        resultElement.innerHTML = data.is_strong\n",
    "                            ? '<span style=\"color: green;\">Password is strong!</span>'\n",
    "                            : '<span style=\"color: red;\">Password is weak. Please use a longer password.</span>';\n",
    "                    })\n",
    "                    .catch(error => {\n",
    "                        console.error('Error:', error);\n",
    "                    });\n",
    "                }\n",
    "\n",
    "                function toggleVisibility() {\n",
    "                    const passwordInput = document.getElementById('passwordInput');\n",
    "                    passwordInput.type = passwordInput.type === 'password' ? 'text' : 'password';\n",
    "                }\n",
    "            </script>\n",
    "        </body>\n",
    "        </html>\n",
    "    ''')\n",
    "\n",
    "@app.route('/check-password', methods=['POST'])\n",
    "def check_password():\n",
    "    data = request.get_json()\n",
    "    password = data.get('password')\n",
    "\n",
    "    if not password:\n",
    "        return jsonify({'error': 'Password is required'}), 400\n",
    "\n",
    "    is_strong = is_strong_password(password)\n",
    "\n",
    "    return jsonify({'is_strong': is_strong})\n",
    "\n",
    "if __name__ == '__main__':\n",
    "    app.run(debug=True)"
   ]
  },
  {
   "cell_type": "code",
   "execution_count": null,
   "id": "22817151",
   "metadata": {},
   "outputs": [],
   "source": []
  }
 ],
 "metadata": {
  "kernelspec": {
   "display_name": "Python 3 (ipykernel)",
   "language": "python",
   "name": "python3"
  },
  "language_info": {
   "codemirror_mode": {
    "name": "ipython",
    "version": 3
   },
   "file_extension": ".py",
   "mimetype": "text/x-python",
   "name": "python",
   "nbconvert_exporter": "python",
   "pygments_lexer": "ipython3",
   "version": "3.11.5"
  }
 },
 "nbformat": 4,
 "nbformat_minor": 5
}
