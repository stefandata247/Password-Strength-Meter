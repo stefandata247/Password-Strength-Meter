{
 "cells": [
  {
   "cell_type": "code",
   "execution_count": 3,
   "id": "4ab720c7",
   "metadata": {},
   "outputs": [
    {
     "name": "stdout",
     "output_type": "stream",
     "text": [
      "Error while loading conda entry point: anaconda-cloud-auth (cannot import name 'ChannelAuthBase' from 'conda.plugins.types' (/Users/stefantinnin/anaconda3/lib/python3.11/site-packages/conda/plugins/types.py))\n",
      "Error while loading conda entry point: anaconda-cloud-auth (cannot import name 'ChannelAuthBase' from 'conda.plugins.types' (/Users/stefantinnin/anaconda3/lib/python3.11/site-packages/conda/plugins/types.py))\n",
      "usage: conda [-h] [--no-plugins] [-V] COMMAND ...\n",
      "conda: error: argument COMMAND: invalid choice: 'activate' (choose from 'clean', 'compare', 'config', 'create', 'info', 'init', 'install', 'list', 'notices', 'package', 'remove', 'uninstall', 'rename', 'run', 'search', 'update', 'upgrade', 'build', 'content-trust', 'convert', 'debug', 'develop', 'doctor', 'index', 'inspect', 'metapackage', 'render', 'skeleton', 'server', 'pack', 'repo', 'token', 'env', 'verify')\n",
      "\n",
      "Note: you may need to restart the kernel to use updated packages.\n"
     ]
    }
   ],
   "source": [
    "conda activate base"
   ]
  },
  {
   "cell_type": "code",
   "execution_count": 4,
   "id": "f6ebb46b",
   "metadata": {},
   "outputs": [
    {
     "name": "stdout",
     "output_type": "stream",
     "text": [
      "Collecting flask==2.0.0\n",
      "  Obtaining dependency information for flask==2.0.0 from https://files.pythonhosted.org/packages/bf/73/9180d22a40da68382e9cb6edb66a74bf09cb72ac825c130dce9c5a44198d/Flask-2.0.0-py3-none-any.whl.metadata\n",
      "  Downloading Flask-2.0.0-py3-none-any.whl.metadata (3.8 kB)\n",
      "Requirement already satisfied: Werkzeug>=2.0 in ./anaconda3/lib/python3.11/site-packages (from flask==2.0.0) (2.2.3)\n",
      "Requirement already satisfied: Jinja2>=3.0 in ./anaconda3/lib/python3.11/site-packages (from flask==2.0.0) (3.1.2)\n",
      "Requirement already satisfied: itsdangerous>=2.0 in ./anaconda3/lib/python3.11/site-packages (from flask==2.0.0) (2.0.1)\n",
      "Requirement already satisfied: click>=7.1.2 in ./anaconda3/lib/python3.11/site-packages (from flask==2.0.0) (8.1.7)\n",
      "Requirement already satisfied: MarkupSafe>=2.0 in ./anaconda3/lib/python3.11/site-packages (from Jinja2>=3.0->flask==2.0.0) (2.1.1)\n",
      "Downloading Flask-2.0.0-py3-none-any.whl (93 kB)\n",
      "\u001b[2K   \u001b[90m━━━━━━━━━━━━━━━━━━━━━━━━━━━━━━━━━━━━━━━━\u001b[0m \u001b[32m93.2/93.2 kB\u001b[0m \u001b[31m4.5 MB/s\u001b[0m eta \u001b[36m0:00:00\u001b[0m\n",
      "\u001b[?25hInstalling collected packages: flask\n",
      "  Attempting uninstall: flask\n",
      "    Found existing installation: Flask 1.1.2\n",
      "    Uninstalling Flask-1.1.2:\n",
      "      Successfully uninstalled Flask-1.1.2\n",
      "\u001b[31mERROR: pip's dependency resolver does not currently take into account all the packages that are installed. This behaviour is the source of the following dependency conflicts.\n",
      "python-app 0.1 requires flask==1.1.2, but you have flask 2.0.0 which is incompatible.\u001b[0m\u001b[31m\n",
      "\u001b[0mSuccessfully installed flask-2.0.0\n",
      "Note: you may need to restart the kernel to use updated packages.\n"
     ]
    }
   ],
   "source": [
    "pip install flask==2.0.0"
   ]
  },
  {
   "cell_type": "code",
   "execution_count": null,
   "id": "558a864c",
   "metadata": {},
   "outputs": [
    {
     "name": "stdout",
     "output_type": "stream",
     "text": [
      "Error while loading conda entry point: anaconda-cloud-auth (cannot import name 'ChannelAuthBase' from 'conda.plugins.types' (/Users/stefantinnin/anaconda3/lib/python3.11/site-packages/conda/plugins/types.py))\n",
      "Error while loading conda entry point: anaconda-cloud-auth (cannot import name 'ChannelAuthBase' from 'conda.plugins.types' (/Users/stefantinnin/anaconda3/lib/python3.11/site-packages/conda/plugins/types.py))\n",
      "Retrieving notices: ...working... done\n",
      "Collecting package metadata (current_repodata.json): done\n",
      "Solving environment: done\n",
      "\n",
      "\n",
      "==> WARNING: A newer version of conda exists. <==\n",
      "  current version: 23.7.4\n",
      "  latest version: 24.11.0\n",
      "\n",
      "Please update conda by running\n",
      "\n",
      "    $ conda update -n base -c defaults conda\n",
      "\n",
      "Or to minimize the number of packages updated during conda update use\n",
      "\n",
      "     conda install conda=24.11.0\n",
      "\n",
      "\n",
      "\n",
      "## Package Plan ##\n",
      "\n",
      "  environment location: /Users/stefantinnin/anaconda3/envs/PWcheck\n",
      "\n",
      "\n",
      "\n",
      "Proceed ([y]/n)? "
     ]
    }
   ],
   "source": [
    "conda create -n PWcheck"
   ]
  },
  {
   "cell_type": "code",
   "execution_count": null,
   "id": "a3af7157",
   "metadata": {},
   "outputs": [],
   "source": [
    "y\n"
   ]
  },
  {
   "cell_type": "code",
   "execution_count": null,
   "id": "d6aa6dd7",
   "metadata": {},
   "outputs": [],
   "source": [
    "conda activate PWcheck"
   ]
  },
  {
   "cell_type": "code",
   "execution_count": null,
   "id": "746be09d",
   "metadata": {},
   "outputs": [],
   "source": [
    "conda install -c conda-forge numpy pandas sklearn flask==2.0.0"
   ]
  },
  {
   "cell_type": "code",
   "execution_count": null,
   "id": "777ab3f1",
   "metadata": {},
   "outputs": [],
   "source": [
    "pip install numpy pandas sklearn flask==2.0.0"
   ]
  },
  {
   "cell_type": "code",
   "execution_count": null,
   "id": "d4ebc8c8",
   "metadata": {},
   "outputs": [],
   "source": [
    "from flask import Flask, request, jsonify\n",
    "\n",
    "app = Flask(__name__)\n",
    "\n",
    "def is_strong_password(password):\n",
    "    # Implement your password strength logic here\n",
    "    # For simplicity, let's assume a strong password should have a minimum length of 8 characters\n",
    "    return len(password) >= 8\n",
    "\n",
    "@app.route('/check-password', methods=['POST'])\n",
    "def check_password():\n",
    "    data = request.get_json()\n",
    "    password = data.get('password')\n",
    "\n",
    "    if not password:\n",
    "        return jsonify({'error': 'Password is required'}), 400\n",
    "\n",
    "    is_strong = is_strong_password(password)\n",
    "\n",
    "    return jsonify({'is_strong': is_strong})\n",
    "\n",
    "if __name__ == '__main__':\n",
    "    app.run(debug=True)"
   ]
  },
  {
   "cell_type": "code",
   "execution_count": null,
   "id": "5d1acb9b",
   "metadata": {},
   "outputs": [],
   "source": []
  },
  {
   "cell_type": "code",
   "execution_count": null,
   "id": "7a83a942",
   "metadata": {},
   "outputs": [],
   "source": []
  },
  {
   "cell_type": "code",
   "execution_count": null,
   "id": "973f8963",
   "metadata": {},
   "outputs": [],
   "source": []
  },
  {
   "cell_type": "code",
   "execution_count": null,
   "id": "326e63f7",
   "metadata": {},
   "outputs": [],
   "source": []
  },
  {
   "cell_type": "code",
   "execution_count": null,
   "id": "5bd964c4",
   "metadata": {},
   "outputs": [],
   "source": []
  }
 ],
 "metadata": {
  "kernelspec": {
   "display_name": "Python 3 (ipykernel)",
   "language": "python",
   "name": "python3"
  },
  "language_info": {
   "codemirror_mode": {
    "name": "ipython",
    "version": 3
   },
   "file_extension": ".py",
   "mimetype": "text/x-python",
   "name": "python",
   "nbconvert_exporter": "python",
   "pygments_lexer": "ipython3",
   "version": "3.11.5"
  }
 },
 "nbformat": 4,
 "nbformat_minor": 5
}
